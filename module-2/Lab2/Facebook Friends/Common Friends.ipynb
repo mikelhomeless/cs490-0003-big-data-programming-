{
 "cells": [
  {
   "cell_type": "code",
   "execution_count": null,
   "metadata": {},
   "outputs": [],
   "source": [
    "from pyspark import SparkContext"
   ]
  },
  {
   "cell_type": "code",
   "execution_count": 6,
   "metadata": {},
   "outputs": [],
   "source": [
    "def fMapper(value):\n",
    "    user,friends = value.split(\" \")\n",
    "    keyList = []\n",
    "    \n",
    "    for friend in friends:\n",
    "        keyList.append((''.join(sorted(user + friend)), friends.replace(friend, \"\")))\n",
    "        # Appends the user and the first friend as the key and deletes the friend from the friends list \n",
    "        # and adds the remaining friends to the value part of the list\n",
    "    return keyList"
   ]
  },
  {
   "cell_type": "code",
   "execution_count": 7,
   "metadata": {},
   "outputs": [],
   "source": [
    "def fReducer(key, friends):\n",
    "    reduce = ''\n",
    "    for x in key:\n",
    "        if x in friends:\n",
    "            reduce = reduce + x \n",
    "    return reduce"
   ]
  },
  {
   "cell_type": "code",
   "execution_count": 11,
   "metadata": {},
   "outputs": [
    {
     "name": "stdout",
     "output_type": "stream",
     "text": [
      "Done\n"
     ]
    }
   ],
   "source": [
    "data = sc.textFile('facebook_combined.txt',1)\n",
    "mappedData = data.flatMap(fMapper)\n",
    "#print(mappedData.take(500))\n",
    "reducedData = mappedData.reduceByKey(fReducer)\n",
    "\n",
    "reducedData.coalesce(1).saveAsTextFile('commonFriends')\n",
    "# print(reducedData.take(500))\n",
    "print('Done')"
   ]
  },
  {
   "cell_type": "code",
   "execution_count": null,
   "metadata": {},
   "outputs": [],
   "source": []
  },
  {
   "cell_type": "code",
   "execution_count": 73,
   "metadata": {},
   "outputs": [
    {
     "name": "stdout",
     "output_type": "stream",
     "text": [
      "StructType(List(StructField(Year,StringType,true),StructField(Datetime,StringType,true),StructField(Stage,StringType,true),StructField(Stadium,StringType,true),StructField(City,StringType,true),StructField(Home_Team,StringType,true),StructField(Home_Team_Goals,DoubleType,true),StructField(Away_Team_Goals,DoubleType,true),StructField(Away_Team,StringType,true),StructField(Win_conditions,StringType,true),StructField(Attendance,StringType,true),StructField(Half_time_Home_Goals,StringType,true),StructField(Half_time_Away_Goals,StringType,true),StructField(Referee,StringType,true),StructField(Assistant_1,StringType,true),StructField(Assistant_2,StringType,true),StructField(RoundID,StringType,true),StructField(MatchID,StringType,true),StructField(Home_Team_Initials,StringType,true),StructField(Away_Team_Initials,StringType,true)))\n"
     ]
    }
   ],
   "source": [
    "from pyspark.sql import SparkSession\n",
    "from pyspark.sql import *\n",
    "from pyspark.sql.types import IntegerType()\n",
    "\n",
    "df = spark.read.csv(\"WorldCupMatches.csv\",header=True).withColumnRenamed('Home Team Name', 'Home_Team')\n",
    "    .withColumnRenamed('Away Team Name', 'Away_Team').withColumnRenamed('Away Team Goals', 'Away_Team_Goals')\n",
    "    .withColumnRenamed('Home Team Goals', 'Home_Team_Goals').withColumnRenamed('Win conditions', 'Win_conditions')\n",
    "    .withColumnRenamed('Half-time Home Goals', 'Half_time_Home_Goals')\n",
    "    .withColumnRenamed('Half-time Away Goals', 'Half_time_Away_Goals').withColumnRenamed('Assistant 1', 'Assistant_1')\n",
    "    .withColumnRenamed('Assistant 2', 'Assistant_2').withColumnRenamed('Home Team Initials', 'Home_Team_Initials')\n",
    "    .withColumnRenamed('Away Team Initials', 'Away_Team_Initials')\n",
    "\n",
    "\n",
    "df=df.withColumn('Away_Team_Goals',df['Away_Team_Goals'].cast(IntegerType()))\n",
    "df=df.withColumn('Home_Team_Goals',df['Home_Team_Goals'].cast(IntegerType()))\n",
    "print(df.schema)"
   ]
  },
  {
   "cell_type": "code",
   "execution_count": 48,
   "metadata": {},
   "outputs": [
    {
     "name": "stdout",
     "output_type": "stream",
     "text": [
      "+----+--------------------+-------+---------------+------------+----------------+---------------+---------------+----------------+--------------+----------+--------------------+--------------------+--------------------+--------------------+--------------------+-------+-------+------------------+------------------+\n",
      "|Year|            Datetime|  Stage|        Stadium|        City|       Home_Team|Home_Team_Goals|Away_Team_Goals|       Away_Team|Win_conditions|Attendance|Half_time_Home_Goals|Half_time_Away_Goals|             Referee|         Assistant_1|         Assistant_2|RoundID|MatchID|Home_Team_Initials|Away_Team_Initials|\n",
      "+----+--------------------+-------+---------------+------------+----------------+---------------+---------------+----------------+--------------+----------+--------------------+--------------------+--------------------+--------------------+--------------------+-------+-------+------------------+------------------+\n",
      "|1958|08 Jun 1958 - 14:00 |Group 3|Rasunda Stadium|      Solna |          Sweden|              3|              0|          Mexico|              |     34107|                   1|                   0|LATYCHEV Nikolaj ...|    MOWAT Jack (SCO)| ERIKSSON Arne (FIN)|    220|   1415|               SWE|               MEX|\n",
      "|1958|08 Jun 1958 - 19:00 |Group 4|     Nya Ullevi| Gothenburg |    Soviet Union|              2|              2|         England|              |     49348|                   1|                   0|  ZSOLT Istvan (HUN)| NILSEN Birger (NOR)|JORGENSEN Carl Fr...|    220|   1372|               URS|               ENG|\n",
      "|1958|08 Jun 1958 - 19:00 |Group 1|  Malmo Stadion|      Malm� |       Argentina|              1|              3|      Germany FR|              |     31156|                   1|                   2|LEAFE Reginald (ENG)|     HELGE Leo (DEN)|   AHLNER Sten (SWE)|    220|   1323|               ARG|               FRG|\n",
      "|1958|08 Jun 1958 - 19:00 |Group 3|     Jarnvallen|  Sandviken |         Hungary|              1|              1|           Wales|              |     15343|                   1|                   1|CODESAL Jose Mari...|   LEMESIC Leo (YUG)|VAN NUFFEL Lucien...|    220|   1407|               HUN|               WAL|\n",
      "|1958|08 Jun 1958 - 19:00 |Group 2|  Idrottsparken| Norrk�Ping |          France|              7|              3|        Paraguay|              |     16518|                   2|                   2|GARDEAZABAL Juan ...|GRIFFITHS Benjami...|   BROZZI Juan (ARG)|    220|   1386|               FRA|               PAR|\n",
      "|1958|08 Jun 1958 - 19:00 |Group 2|     Arosvallen|   Vasteras |      Yugoslavia|              1|              1|        Scotland|              |      9591|                   1|                   0| WYSSLING Paul (SUI)|ORLANDINI Vincenz...|  MACKO Martin (TCH)|    220|   1434|               YUG|               SCO|\n",
      "|1958|08 Jun 1958 - 19:00 |Group 4|  Rimnersvallen|   Udevalla |          Brazil|              3|              0|         Austria|              |     17788|                   1|                   0|GUIGUE Maurice (FRA)|  DUSCH Albert (GER)|BRONKHORST Jan (NED)|    220|   1326|               BRA|               AUT|\n",
      "|1958|08 Jun 1958 - 19:00 |Group 1|    Orjans Vall|   Halmstad |Northern Ireland|              1|              0|  Czechoslovakia|              |     10647|                   1|                   0| SEIPELT Fritz (AUT)|  ELLIS Arthur (ENG)|FERNANDES CAMPOS ...|    220|   1421|               NIR|               TCH|\n",
      "|1958|11 Jun 1958 - 19:00 |Group 4|     Nya Ullevi| Gothenburg |          Brazil|              0|              0|         England|              |     40895|                   0|                   0|  DUSCH Albert (GER)| LOEOEW Bertil (SWE)|  ZSOLT Istvan (HUN)|    220|   1339|               BRA|               ENG|\n",
      "|1958|11 Jun 1958 - 19:00 |Group 3|Rasunda Stadium|      Solna |          Mexico|              1|              1|           Wales|              |     15150|                   0|                   1|   LEMESIC Leo (YUG)|LATYCHEV Nikolaj ...|CODESAL Jose Mari...|    220|   1418|               MEX|               WAL|\n",
      "|1958|11 Jun 1958 - 19:00 |Group 2|  Idrottsparken| Norrk�Ping |        Paraguay|              3|              2|        Scotland|              |     11665|                   2|                   1|ORLANDINI Vincenz...|GARDEAZABAL Juan ...|  ANDREN Bengt (SWE)|    220|   1423|               PAR|               SCO|\n",
      "|1958|11 Jun 1958 - 19:00 |Group 2|     Arosvallen|   Vasteras |      Yugoslavia|              3|              2|          France|              |     12217|                   1|                   1|GRIFFITHS Benjami...| WYSSLING Paul (SUI)|DRAGVOLL Georg (NOR)|    220|   1388|               YUG|               FRA|\n",
      "|1958|11 Jun 1958 - 19:00 |Group 4|      Ryavallen|      Boras |    Soviet Union|              2|              0|         Austria|              |     21239|                   1|                   0|JORGENSEN Carl Fr...| NILSEN Birger (NOR)|ACKEBORN Gosta (SWE)|    220|   1332|               URS|               AUT|\n",
      "|1958|11 Jun 1958 - 19:00 |Group 1|Olympia Stadium|Helsingborg |      Germany FR|              2|              2|  Czechoslovakia|              |     25000|                   0|                   2|  ELLIS Arthur (ENG)|LEAFE Reginald (ENG)| SEIPELT Fritz (AUT)|    220|   1391|               FRG|               TCH|\n",
      "|1958|11 Jun 1958 - 19:00 |Group 1|    Orjans Vall|   Halmstad |       Argentina|              3|              1|Northern Ireland|              |     14174|                   1|                   1|   AHLNER Sten (SWE)|FERNANDES CAMPOS ...|     HELGE Leo (DEN)|    220|   1324|               ARG|               NIR|\n",
      "|1958|12 Jun 1958 - 19:00 |Group 3|Rasunda Stadium|      Solna |          Sweden|              2|              1|         Hungary|              |     38850|                   1|                   0|    MOWAT Jack (SCO)|VAN NUFFEL Lucien...|DRAGVOLL Georg (NOR)|    220|   1406|               SWE|               HUN|\n",
      "|1958|15 Jun 1958 - 14:00 |Group 3|Rasunda Stadium|      Solna |          Sweden|              0|              0|           Wales|              |     30287|                   0|                   0|VAN NUFFEL Lucien...|   LEMESIC Leo (YUG)|LATYCHEV Nikolaj ...|    220|   1438|               SWE|               WAL|\n",
      "|1958|15 Jun 1958 - 19:00 |Group 4|     Nya Ullevi| Gothenburg |          Brazil|              2|              0|    Soviet Union|              |     50928|                   1|                   0|GUIGUE Maurice (FRA)| NILSEN Birger (NOR)|JORGENSEN Carl Fr...|    220|   1344|               BRA|               URS|\n",
      "|1958|15 Jun 1958 - 19:00 |Group 1|  Malmo Stadion|      Malm� |      Germany FR|              2|              2|Northern Ireland|              |     21990|                   1|                   1|FERNANDES CAMPOS ...|   AHLNER Sten (SWE)|     HELGE Leo (DEN)|    220|   1389|               FRG|               NIR|\n",
      "|1958|15 Jun 1958 - 19:00 |Group 3|     Jarnvallen|  Sandviken |         Hungary|              4|              0|          Mexico|              |     13300|                   1|                   0| ERIKSSON Arne (FIN)|CODESAL Jose Mari...|    MOWAT Jack (SCO)|    220|   1403|               HUN|               MEX|\n",
      "+----+--------------------+-------+---------------+------------+----------------+---------------+---------------+----------------+--------------+----------+--------------------+--------------------+--------------------+--------------------+--------------------+-------+-------+------------------+------------------+\n",
      "only showing top 20 rows\n",
      "\n"
     ]
    }
   ],
   "source": [
    "#1 \n",
    "df.filter(df.Year.like(\"1958\")).show()\n",
    "# This returns all the matches that were played in 1958 "
   ]
  },
  {
   "cell_type": "code",
   "execution_count": 49,
   "metadata": {},
   "outputs": [
    {
     "name": "stdout",
     "output_type": "stream",
     "text": [
      "+----+--------------------+-----+--------------------+------------------+-----------+---------------+---------------+--------------+--------------------+----------+--------------------+--------------------+--------------------+--------------------+--------------------+--------+---------+------------------+------------------+\n",
      "|Year|            Datetime|Stage|             Stadium|              City|  Home_Team|Home_Team_Goals|Away_Team_Goals|     Away_Team|      Win_conditions|Attendance|Half_time_Home_Goals|Half_time_Away_Goals|             Referee|         Assistant_1|         Assistant_2| RoundID|  MatchID|Home_Team_Initials|Away_Team_Initials|\n",
      "+----+--------------------+-----+--------------------+------------------+-----------+---------------+---------------+--------------+--------------------+----------+--------------------+--------------------+--------------------+--------------------+--------------------+--------+---------+------------------+------------------+\n",
      "|1930|30 Jul 1930 - 14:15 |Final|  Estadio Centenario|       Montevideo |    Uruguay|              4|              2|     Argentina|                    |     68346|                   1|                   2| LANGENUS Jean (BEL)|SAUCEDO Ulises (BOL)|CRISTOPHE Henry (...|     405|     1087|               URU|               ARG|\n",
      "|1934|10 Jun 1934 - 17:30 |Final|       Nazionale PNF|             Rome |      Italy|              2|              1|Czechoslovakia|Italy win after e...|     55000|                   0|                   0|   EKLIND Ivan (SWE)|   BAERT Louis (BEL)|IVANCSICS Mihaly ...|    3490|     1134|               ITA|               TCH|\n",
      "|1938|19 Jun 1938 - 17:00 |Final|     Stade Olympique|         Colombes |      Italy|              4|              2|       Hungary|                    |     45000|                   3|                   1|CAPDEVILLE George...|WUETHRICH Hans (SUI)|  KRIST Gustav (TCH)|    3487|     1174|               ITA|               HUN|\n",
      "|1954|04 Jul 1954 - 17:00 |Final|    Wankdorf Stadium|            Berne | Germany FR|              3|              2|       Hungary|                    |     62500|                   2|                   2|  LING William (ENG)|ORLANDINI Vincenz...|GRIFFITHS Benjami...|    3484|     1278|               FRG|               HUN|\n",
      "|1958|29 Jun 1958 - 15:00 |Final|     Rasunda Stadium|            Solna |     Brazil|              5|              2|        Sweden|                    |     49737|                   2|                   1|GUIGUE Maurice (FRA)|  DUSCH Albert (GER)|GARDEAZABAL Juan ...|    3482|     1343|               BRA|               SWE|\n",
      "|1962|17 Jun 1962 - 14:30 |Final|            Nacional|Santiago De Chile |     Brazil|              3|              1|Czechoslovakia|                    |     68679|                   1|                   1|LATYCHEV Nikolaj ...|      HORN Leo (NED)|  DAVIDSON Bob (SCO)|    3480|     1463|               BRA|               TCH|\n",
      "|1966|30 Jul 1966 - 15:00 |Final|     Wembley Stadium|           London |    England|              4|              2|    Germany FR|England win after...|     96924|                   0|                   0|DIENST Gottfried ...|BAKHRAMOV Tofik (...|   GALBA Karol (TCH)|    3478|     1633|               ENG|               FRG|\n",
      "|1970|21 Jun 1970 - 12:00 |Final|      Estadio Azteca|      Mexico City |     Brazil|              4|              1|         Italy|                    |    107412|                   1|                   1|GLOECKNER Rudolf ...|SCHEURER Ruedi (SUI)|COEREZZA Norberto...|    3476|     1765|               BRA|               ITA|\n",
      "|1974|07 July 1974 - 16...|Final|      Olympiastadion|           Munich |Netherlands|              1|              2|    Germany FR|                    |     78200|                   1|                   2|   TAYLOR John (ENG)|GONZALEZ ARCHUNDI...|BARRETO RUIZ Ramo...|     605|     2063|               NED|               FRG|\n",
      "|1978|25 Jun 1978 - 15:00 |Final|El Monumental - E...|     Buenos Aires |  Argentina|              3|              1|   Netherlands|Argentina win aft...|     71483|                   0|                   0|GONELLA Sergio (ITA)|BARRETO RUIZ Ramo...|LINEMAYR Erich (AUT)|     639|     2198|               ARG|               NED|\n",
      "|1982|11 Jul 1982 - 20:00 |Final|   Santiago Bernabeu|           Madrid |      Italy|              3|              1|    Germany FR|                    |     90000|                   0|                   0|COELHO Arnaldo (BRA)| KLEIN Abraham (ISR)|CHRISTOV Vojtech ...|    3475|      923|               ITA|               FRG|\n",
      "|1986|29 Jun 1986 - 12:00 |Final|      Estadio Azteca|      Mexico City |  Argentina|              3|              2|    Germany FR|                    |    114600|                   1|                   0|ARPPI FILHO Romua...|FREDRIKSSON Erik ...|ULLOA MORERA Bern...|    3467|      393|               ARG|               FRG|\n",
      "|1990|08 Jul 1990 - 20:00 |Final|     Stadio Olimpico|             Rome | Germany FR|              1|              0|     Argentina|                    |     73603|                   0|                   0|CODESAL MENDEZ Ed...|PEREZ HOYOS Arman...|LISTKIEWICZ Micha...|    3462|       27|               FRG|               ARG|\n",
      "|1994|17 Jul 1994 - 12:30 |Final|           Rose Bowl|      Los Angeles |     Brazil|              0|              0|         Italy|Brazil win on pen...|     94194|                   0|                   0|   PUHL Sandor (HUN)|ZARATE Venancio (...|FANAEI Mohammad (...|    3459|     3104|               BRA|               ITA|\n",
      "|1998|12 Jul 1998 - 21:00 |Final|     Stade de France|      Saint-Denis |     Brazil|              0|              3|        France|                    |     80000|                   0|                   2|  BELQOLA Said (MAR)|   WARREN Mark (ENG)|  SALIE Achmat (RSA)|    1027|     8788|               BRA|               FRA|\n",
      "|2002|30 Jun 2002 - 20:00 |Final|International Sta...|         Yokohama |    Germany|              0|              2|        Brazil|                    |     69029|                   0|                   0|COLLINA Pierluigi...| LINDBERG Leif (SWE)|  SHARP Philip (ENG)|43950600| 43950064|               GER|               BRA|\n",
      "|2006|09 Jul 2006 - 20:00 |Final|      Olympiastadion|           Berlin |      Italy|              1|              1|        France|Italy win on pena...|     69000|                   0|                   0|ELIZONDO Horacio ...|  GARCIA Dario (ARG)| OTERO Rodolfo (ARG)|97410600| 97410064|               ITA|               FRA|\n",
      "|2010|11 Jul 2010 - 20:30 |Final| Soccer City Stadium|     Johannesburg |Netherlands|              0|              1|         Spain|Spain win after e...|     84490|                   0|                   0|   WEBB Howard (ENG)|   Darren CANN (ENG)|MULLARKEY Michael...|  249721|300061509|               NED|               ESP|\n",
      "|2014|13 Jul 2014 - 16:00 |Final| Estadio do Maracana|   Rio De Janeiro |    Germany|              1|              0|     Argentina|Germany win after...|     74738|                   0|                   0|Nicola RIZZOLI (ITA)|Renato FAVERANI (...|Andrea STEFANI (ITA)|  255959|300186501|               GER|               ARG|\n",
      "|2014|13 Jul 2014 - 16:00 |Final| Estadio do Maracana|   Rio De Janeiro |    Germany|              1|              0|     Argentina|Germany win after...|     74738|                   0|                   0|Nicola RIZZOLI (ITA)|Renato FAVERANI (...|Andrea STEFANI (ITA)|  255959|300186501|               GER|               ARG|\n",
      "+----+--------------------+-----+--------------------+------------------+-----------+---------------+---------------+--------------+--------------------+----------+--------------------+--------------------+--------------------+--------------------+--------------------+--------+---------+------------------+------------------+\n",
      "\n"
     ]
    }
   ],
   "source": [
    "#2\n",
    "df.filter(df.Stage=='Final').show()\n",
    "# Returns all the final match games "
   ]
  },
  {
   "cell_type": "code",
   "execution_count": 87,
   "metadata": {},
   "outputs": [
    {
     "name": "stdout",
     "output_type": "stream",
     "text": [
      "34\n"
     ]
    }
   ],
   "source": [
    "#3\n",
    "USA1 = df.filter( df.Home_Team == 'USA') \n",
    "USA2 = df.filter( df.Away_Team == 'USA')  \n",
    "# returns the number of games that the USA has played in.\n",
    "print(USA1.count() + USA2.count())"
   ]
  },
  {
   "cell_type": "code",
   "execution_count": 89,
   "metadata": {},
   "outputs": [
    {
     "name": "stdout",
     "output_type": "stream",
     "text": [
      "+-------+------------------+\n",
      "|summary|        Attendance|\n",
      "+-------+------------------+\n",
      "|  count|                20|\n",
      "|   mean|          76383.65|\n",
      "| stddev|17836.376878004416|\n",
      "|    min|            107412|\n",
      "|    max|             96924|\n",
      "+-------+------------------+\n",
      "\n"
     ]
    }
   ],
   "source": [
    "#4 \n",
    "df.filter(df.Stage=='Final').describe('Attendance').show()\n",
    "# gives the mean min and max and standard deviation for attendence at all final match games "
   ]
  },
  {
   "cell_type": "code",
   "execution_count": 99,
   "metadata": {},
   "outputs": [
    {
     "name": "stdout",
     "output_type": "stream",
     "text": [
      "+--------------------+--------------------+\n",
      "|             Stadium|sum(Home_Team_Goals)|\n",
      "+--------------------+--------------------+\n",
      "|      Estadio Azteca|                39.0|\n",
      "|  Estadio Centenario|                36.0|\n",
      "|           St. Jakob|                33.0|\n",
      "|Maracan� - Est�di...|                26.0|\n",
      "|             Jalisco|                25.0|\n",
      "|            Hardturm|                25.0|\n",
      "|    Parc des Princes|                24.0|\n",
      "|Nou Camp - Estadi...|                24.0|\n",
      "|Estadio Ol�mpico ...|                24.0|\n",
      "|            Nacional|                21.0|\n",
      "|     Carlos Dittborn|                20.0|\n",
      "|     Rasunda Stadium|                20.0|\n",
      "|     Stade V�lodrome|                19.0|\n",
      "|          Charmilles|                17.0|\n",
      "|      Parque Central|                16.0|\n",
      "|Arroyito - Estadi...|                15.0|\n",
      "|Stade du Parc Les...|                15.0|\n",
      "|          Nya Ullevi|                15.0|\n",
      "|       Goodison Park|                15.0|\n",
      "|   Estadio Sausalito|                15.0|\n",
      "+--------------------+--------------------+\n",
      "only showing top 20 rows\n",
      "\n"
     ]
    }
   ],
   "source": [
    "#5 \n",
    "df.groupBy('Stadium').sum('Home_Team_Goals').orderBy('sum(Home_Team_Goals)',ascending=False).dropna().show()\n",
    "\n",
    "# this returns the sum of the home team goals grouped by staduim and then sorted by number of goals "
   ]
  },
  {
   "cell_type": "code",
   "execution_count": null,
   "metadata": {},
   "outputs": [],
   "source": []
  }
 ],
 "metadata": {
  "kernelspec": {
   "display_name": "Python 3",
   "language": "python",
   "name": "python3"
  }
 },
 "nbformat": 4,
 "nbformat_minor": 2
}
